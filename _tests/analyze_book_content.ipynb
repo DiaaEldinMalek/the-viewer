{
 "cells": [
  {
   "cell_type": "code",
   "execution_count": 19,
   "id": "3e8975a0-517a-4c4d-8616-e74eb645bfba",
   "metadata": {},
   "outputs": [],
   "source": [
    "import json\n",
    "import os\n",
    "import pathlib"
   ]
  },
  {
   "cell_type": "code",
   "execution_count": 20,
   "id": "afcead3b-d03a-4d82-ab58-e0dc8425b8f3",
   "metadata": {},
   "outputs": [],
   "source": [
    "preface = \"\"\"This ebook is for the use of anyone anywhere in the United States and\n",
    "most other parts of the world at no cost and with almost no restrictions\n",
    "whatsoever. You may copy it, give it away or re-use it under the terms\n",
    "of the Project Gutenberg License included with this ebook or online\n",
    "at www.gutenberg.org. If you are not located in the United States,\n",
    "you will have to check the laws of the country where you are located\n",
    "before using this eBook.\"\"\""
   ]
  },
  {
   "cell_type": "code",
   "execution_count": 26,
   "id": "7b62579a-d716-484b-8656-d3ca167c5f96",
   "metadata": {},
   "outputs": [
    {
     "name": "stdout",
     "output_type": "stream",
     "text": [
      "31\n",
      "13 6557\n",
      "15 8631\n",
      "17 9427\n"
     ]
    }
   ],
   "source": [
    "all_books = os.listdir('cache/')\n",
    "print(len(all_books))\n",
    "for i, book in enumerate(all_books):\n",
    "    with open(pathlib.Path('cache', book, 'content.txt')) as file:\n",
    "        content =file.read()\n",
    "    if preface not in content:\n",
    "        print(i, book)\n",
    "        # print(content)\n",
    "    # if book in ['6557', '8631', '9427']:\n",
    "    # break"
   ]
  },
  {
   "cell_type": "markdown",
   "id": "a167d2da-d60d-4097-bc9a-4cbe8db7df92",
   "metadata": {},
   "source": [
    "In this random list of 31 Gutenberg project text files, only three books: 6557, 8631, and 9427 don't have the above preface in their content, because they happen to be Audiobooks. Hence, we deduce that all EPUBs contain the above preface and can be safely used to cut down the length of the text file without compromising the book content."
   ]
  },
  {
   "cell_type": "code",
   "execution_count": null,
   "id": "3f415966",
   "metadata": {},
   "outputs": [],
   "source": []
  }
 ],
 "metadata": {
  "kernelspec": {
   "display_name": "Python 3 (ipykernel)",
   "language": "python",
   "name": "python3"
  },
  "language_info": {
   "codemirror_mode": {
    "name": "ipython",
    "version": 3
   },
   "file_extension": ".py",
   "mimetype": "text/x-python",
   "name": "python",
   "nbconvert_exporter": "python",
   "pygments_lexer": "ipython3",
   "version": "3.10.12"
  }
 },
 "nbformat": 4,
 "nbformat_minor": 5
}
